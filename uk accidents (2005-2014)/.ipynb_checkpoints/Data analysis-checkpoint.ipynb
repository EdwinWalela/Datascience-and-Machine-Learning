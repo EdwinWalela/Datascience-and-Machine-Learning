{
 "cells": [
  {
   "cell_type": "markdown",
   "metadata": {},
   "source": [
    "# Road accidents in UK between 2005 - 2014"
   ]
  },
  {
   "cell_type": "markdown",
   "metadata": {},
   "source": [
    "## Exploratory Data Analysis"
   ]
  },
  {
   "cell_type": "code",
   "execution_count": 61,
   "metadata": {},
   "outputs": [],
   "source": [
    "import numpy as np\n",
    "import pandas as pd\n",
    "import matplotlib.pyplot as plt\n",
    "import seaborn as sns\n",
    "sns.set_style('darkgrid')\n",
    "%matplotlib inline"
   ]
  },
  {
   "cell_type": "code",
   "execution_count": 2,
   "metadata": {},
   "outputs": [
    {
     "name": "stderr",
     "output_type": "stream",
     "text": [
      "E:\\Software\\Anaconda3\\lib\\site-packages\\IPython\\core\\interactiveshell.py:3058: DtypeWarning: Columns (31) have mixed types. Specify dtype option on import or set low_memory=False.\n",
      "  interactivity=interactivity, compiler=compiler, result=result)\n"
     ]
    }
   ],
   "source": [
    "accidents_05_07 = pd.read_csv('accidents_2005_to_2007.csv')"
   ]
  },
  {
   "cell_type": "code",
   "execution_count": 3,
   "metadata": {},
   "outputs": [
    {
     "name": "stdout",
     "output_type": "stream",
     "text": [
      "<class 'pandas.core.frame.DataFrame'>\n",
      "RangeIndex: 570011 entries, 0 to 570010\n",
      "Data columns (total 33 columns):\n",
      "Accident_Index                                 570011 non-null object\n",
      "Location_Easting_OSGR                          569910 non-null float64\n",
      "Location_Northing_OSGR                         569910 non-null float64\n",
      "Longitude                                      569910 non-null float64\n",
      "Latitude                                       569910 non-null float64\n",
      "Police_Force                                   570011 non-null int64\n",
      "Accident_Severity                              570011 non-null int64\n",
      "Number_of_Vehicles                             570011 non-null int64\n",
      "Number_of_Casualties                           570011 non-null int64\n",
      "Date                                           570011 non-null object\n",
      "Day_of_Week                                    570011 non-null int64\n",
      "Time                                           569944 non-null object\n",
      "Local_Authority_(District)                     570011 non-null int64\n",
      "Local_Authority_(Highway)                      570011 non-null object\n",
      "1st_Road_Class                                 570011 non-null int64\n",
      "1st_Road_Number                                570011 non-null int64\n",
      "Road_Type                                      570011 non-null object\n",
      "Speed_limit                                    570011 non-null int64\n",
      "Junction_Detail                                0 non-null float64\n",
      "Junction_Control                               333066 non-null object\n",
      "2nd_Road_Class                                 570011 non-null int64\n",
      "2nd_Road_Number                                570011 non-null int64\n",
      "Pedestrian_Crossing-Human_Control              569994 non-null object\n",
      "Pedestrian_Crossing-Physical_Facilities        569977 non-null object\n",
      "Light_Conditions                               570011 non-null object\n",
      "Weather_Conditions                             569991 non-null object\n",
      "Road_Surface_Conditions                        569349 non-null object\n",
      "Special_Conditions_at_Site                     570000 non-null object\n",
      "Carriageway_Hazards                            569988 non-null object\n",
      "Urban_or_Rural_Area                            570011 non-null int64\n",
      "Did_Police_Officer_Attend_Scene_of_Accident    567636 non-null object\n",
      "LSOA_of_Accident_Location                      522500 non-null object\n",
      "Year                                           570011 non-null int64\n",
      "dtypes: float64(5), int64(13), object(15)\n",
      "memory usage: 143.5+ MB\n"
     ]
    }
   ],
   "source": [
    "accidents_05_07.info()"
   ]
  },
  {
   "cell_type": "code",
   "execution_count": 4,
   "metadata": {},
   "outputs": [
    {
     "data": {
      "text/plain": [
       "Index(['Accident_Index', 'Location_Easting_OSGR', 'Location_Northing_OSGR',\n",
       "       'Longitude', 'Latitude', 'Police_Force', 'Accident_Severity',\n",
       "       'Number_of_Vehicles', 'Number_of_Casualties', 'Date', 'Day_of_Week',\n",
       "       'Time', 'Local_Authority_(District)', 'Local_Authority_(Highway)',\n",
       "       '1st_Road_Class', '1st_Road_Number', 'Road_Type', 'Speed_limit',\n",
       "       'Junction_Detail', 'Junction_Control', '2nd_Road_Class',\n",
       "       '2nd_Road_Number', 'Pedestrian_Crossing-Human_Control',\n",
       "       'Pedestrian_Crossing-Physical_Facilities', 'Light_Conditions',\n",
       "       'Weather_Conditions', 'Road_Surface_Conditions',\n",
       "       'Special_Conditions_at_Site', 'Carriageway_Hazards',\n",
       "       'Urban_or_Rural_Area', 'Did_Police_Officer_Attend_Scene_of_Accident',\n",
       "       'LSOA_of_Accident_Location', 'Year'],\n",
       "      dtype='object')"
      ]
     },
     "execution_count": 4,
     "metadata": {},
     "output_type": "execute_result"
    }
   ],
   "source": [
    "accidents_05_07.columns"
   ]
  },
  {
   "cell_type": "code",
   "execution_count": 5,
   "metadata": {},
   "outputs": [
    {
     "data": {
      "text/html": [
       "<div>\n",
       "<style scoped>\n",
       "    .dataframe tbody tr th:only-of-type {\n",
       "        vertical-align: middle;\n",
       "    }\n",
       "\n",
       "    .dataframe tbody tr th {\n",
       "        vertical-align: top;\n",
       "    }\n",
       "\n",
       "    .dataframe thead th {\n",
       "        text-align: right;\n",
       "    }\n",
       "</style>\n",
       "<table border=\"1\" class=\"dataframe\">\n",
       "  <thead>\n",
       "    <tr style=\"text-align: right;\">\n",
       "      <th></th>\n",
       "      <th>Accident_Index</th>\n",
       "      <th>Longitude</th>\n",
       "      <th>Latitude</th>\n",
       "      <th>Police_Force</th>\n",
       "      <th>Accident_Severity</th>\n",
       "      <th>Number_of_Vehicles</th>\n",
       "      <th>Number_of_Casualties</th>\n",
       "      <th>Date</th>\n",
       "      <th>Day_of_Week</th>\n",
       "      <th>Time</th>\n",
       "      <th>...</th>\n",
       "      <th>2nd_Road_Number</th>\n",
       "      <th>Pedestrian_Crossing-Human_Control</th>\n",
       "      <th>Pedestrian_Crossing-Physical_Facilities</th>\n",
       "      <th>Light_Conditions</th>\n",
       "      <th>Weather_Conditions</th>\n",
       "      <th>Road_Surface_Conditions</th>\n",
       "      <th>Special_Conditions_at_Site</th>\n",
       "      <th>Carriageway_Hazards</th>\n",
       "      <th>Did_Police_Officer_Attend_Scene_of_Accident</th>\n",
       "      <th>Year</th>\n",
       "    </tr>\n",
       "  </thead>\n",
       "  <tbody>\n",
       "    <tr>\n",
       "      <td>0</td>\n",
       "      <td>200501BS00001</td>\n",
       "      <td>-0.191170</td>\n",
       "      <td>51.489096</td>\n",
       "      <td>1</td>\n",
       "      <td>2</td>\n",
       "      <td>1</td>\n",
       "      <td>1</td>\n",
       "      <td>04/01/2005</td>\n",
       "      <td>3</td>\n",
       "      <td>17:42</td>\n",
       "      <td>...</td>\n",
       "      <td>0</td>\n",
       "      <td>None within 50 metres</td>\n",
       "      <td>Zebra crossing</td>\n",
       "      <td>Daylight: Street light present</td>\n",
       "      <td>Raining without high winds</td>\n",
       "      <td>Wet/Damp</td>\n",
       "      <td>None</td>\n",
       "      <td>None</td>\n",
       "      <td>Yes</td>\n",
       "      <td>2005</td>\n",
       "    </tr>\n",
       "    <tr>\n",
       "      <td>1</td>\n",
       "      <td>200501BS00002</td>\n",
       "      <td>-0.211708</td>\n",
       "      <td>51.520075</td>\n",
       "      <td>1</td>\n",
       "      <td>3</td>\n",
       "      <td>1</td>\n",
       "      <td>1</td>\n",
       "      <td>05/01/2005</td>\n",
       "      <td>4</td>\n",
       "      <td>17:36</td>\n",
       "      <td>...</td>\n",
       "      <td>0</td>\n",
       "      <td>None within 50 metres</td>\n",
       "      <td>Pedestrian phase at traffic signal junction</td>\n",
       "      <td>Darkness: Street lights present and lit</td>\n",
       "      <td>Fine without high winds</td>\n",
       "      <td>Dry</td>\n",
       "      <td>None</td>\n",
       "      <td>None</td>\n",
       "      <td>Yes</td>\n",
       "      <td>2005</td>\n",
       "    </tr>\n",
       "    <tr>\n",
       "      <td>2</td>\n",
       "      <td>200501BS00003</td>\n",
       "      <td>-0.206458</td>\n",
       "      <td>51.525301</td>\n",
       "      <td>1</td>\n",
       "      <td>3</td>\n",
       "      <td>2</td>\n",
       "      <td>1</td>\n",
       "      <td>06/01/2005</td>\n",
       "      <td>5</td>\n",
       "      <td>00:15</td>\n",
       "      <td>...</td>\n",
       "      <td>0</td>\n",
       "      <td>None within 50 metres</td>\n",
       "      <td>No physical crossing within 50 meters</td>\n",
       "      <td>Darkness: Street lights present and lit</td>\n",
       "      <td>Fine without high winds</td>\n",
       "      <td>Dry</td>\n",
       "      <td>None</td>\n",
       "      <td>None</td>\n",
       "      <td>Yes</td>\n",
       "      <td>2005</td>\n",
       "    </tr>\n",
       "    <tr>\n",
       "      <td>3</td>\n",
       "      <td>200501BS00004</td>\n",
       "      <td>-0.173862</td>\n",
       "      <td>51.482442</td>\n",
       "      <td>1</td>\n",
       "      <td>3</td>\n",
       "      <td>1</td>\n",
       "      <td>1</td>\n",
       "      <td>07/01/2005</td>\n",
       "      <td>6</td>\n",
       "      <td>10:35</td>\n",
       "      <td>...</td>\n",
       "      <td>0</td>\n",
       "      <td>None within 50 metres</td>\n",
       "      <td>No physical crossing within 50 meters</td>\n",
       "      <td>Daylight: Street light present</td>\n",
       "      <td>Fine without high winds</td>\n",
       "      <td>Dry</td>\n",
       "      <td>None</td>\n",
       "      <td>None</td>\n",
       "      <td>Yes</td>\n",
       "      <td>2005</td>\n",
       "    </tr>\n",
       "    <tr>\n",
       "      <td>4</td>\n",
       "      <td>200501BS00005</td>\n",
       "      <td>-0.156618</td>\n",
       "      <td>51.495752</td>\n",
       "      <td>1</td>\n",
       "      <td>3</td>\n",
       "      <td>1</td>\n",
       "      <td>1</td>\n",
       "      <td>10/01/2005</td>\n",
       "      <td>2</td>\n",
       "      <td>21:13</td>\n",
       "      <td>...</td>\n",
       "      <td>0</td>\n",
       "      <td>None within 50 metres</td>\n",
       "      <td>No physical crossing within 50 meters</td>\n",
       "      <td>Darkness: Street lighting unknown</td>\n",
       "      <td>Fine without high winds</td>\n",
       "      <td>Wet/Damp</td>\n",
       "      <td>None</td>\n",
       "      <td>None</td>\n",
       "      <td>Yes</td>\n",
       "      <td>2005</td>\n",
       "    </tr>\n",
       "    <tr>\n",
       "      <td>...</td>\n",
       "      <td>...</td>\n",
       "      <td>...</td>\n",
       "      <td>...</td>\n",
       "      <td>...</td>\n",
       "      <td>...</td>\n",
       "      <td>...</td>\n",
       "      <td>...</td>\n",
       "      <td>...</td>\n",
       "      <td>...</td>\n",
       "      <td>...</td>\n",
       "      <td>...</td>\n",
       "      <td>...</td>\n",
       "      <td>...</td>\n",
       "      <td>...</td>\n",
       "      <td>...</td>\n",
       "      <td>...</td>\n",
       "      <td>...</td>\n",
       "      <td>...</td>\n",
       "      <td>...</td>\n",
       "      <td>...</td>\n",
       "      <td>...</td>\n",
       "    </tr>\n",
       "    <tr>\n",
       "      <td>570006</td>\n",
       "      <td>2.01E+12</td>\n",
       "      <td>-3.210294</td>\n",
       "      <td>54.985289</td>\n",
       "      <td>98</td>\n",
       "      <td>3</td>\n",
       "      <td>1</td>\n",
       "      <td>1</td>\n",
       "      <td>20/12/2007</td>\n",
       "      <td>5</td>\n",
       "      <td>22:01</td>\n",
       "      <td>...</td>\n",
       "      <td>0</td>\n",
       "      <td>None within 50 metres</td>\n",
       "      <td>No physical crossing within 50 meters</td>\n",
       "      <td>Darkeness: No street lighting</td>\n",
       "      <td>Other</td>\n",
       "      <td>Frost/Ice</td>\n",
       "      <td>None</td>\n",
       "      <td>None</td>\n",
       "      <td>Yes</td>\n",
       "      <td>2007</td>\n",
       "    </tr>\n",
       "    <tr>\n",
       "      <td>570007</td>\n",
       "      <td>2.01E+12</td>\n",
       "      <td>-3.193693</td>\n",
       "      <td>54.984105</td>\n",
       "      <td>98</td>\n",
       "      <td>2</td>\n",
       "      <td>1</td>\n",
       "      <td>2</td>\n",
       "      <td>21/12/2007</td>\n",
       "      <td>6</td>\n",
       "      <td>13:12</td>\n",
       "      <td>...</td>\n",
       "      <td>0</td>\n",
       "      <td>None within 50 metres</td>\n",
       "      <td>No physical crossing within 50 meters</td>\n",
       "      <td>Daylight: Street light present</td>\n",
       "      <td>Other</td>\n",
       "      <td>Frost/Ice</td>\n",
       "      <td>None</td>\n",
       "      <td>None</td>\n",
       "      <td>Yes</td>\n",
       "      <td>2007</td>\n",
       "    </tr>\n",
       "    <tr>\n",
       "      <td>570008</td>\n",
       "      <td>2.01E+12</td>\n",
       "      <td>-2.992068</td>\n",
       "      <td>55.166369</td>\n",
       "      <td>98</td>\n",
       "      <td>3</td>\n",
       "      <td>1</td>\n",
       "      <td>1</td>\n",
       "      <td>23/12/2007</td>\n",
       "      <td>1</td>\n",
       "      <td>03:07</td>\n",
       "      <td>...</td>\n",
       "      <td>0</td>\n",
       "      <td>None within 50 metres</td>\n",
       "      <td>No physical crossing within 50 meters</td>\n",
       "      <td>Darkeness: No street lighting</td>\n",
       "      <td>Fog or mist</td>\n",
       "      <td>Frost/Ice</td>\n",
       "      <td>None</td>\n",
       "      <td>None</td>\n",
       "      <td>Yes</td>\n",
       "      <td>2007</td>\n",
       "    </tr>\n",
       "    <tr>\n",
       "      <td>570009</td>\n",
       "      <td>2.01E+12</td>\n",
       "      <td>-3.058338</td>\n",
       "      <td>54.995154</td>\n",
       "      <td>98</td>\n",
       "      <td>3</td>\n",
       "      <td>1</td>\n",
       "      <td>1</td>\n",
       "      <td>23/12/2007</td>\n",
       "      <td>1</td>\n",
       "      <td>20:00</td>\n",
       "      <td>...</td>\n",
       "      <td>7076</td>\n",
       "      <td>None within 50 metres</td>\n",
       "      <td>No physical crossing within 50 meters</td>\n",
       "      <td>Darkness: Street lights present and lit</td>\n",
       "      <td>Fine without high winds</td>\n",
       "      <td>Wet/Damp</td>\n",
       "      <td>None</td>\n",
       "      <td>None</td>\n",
       "      <td>No</td>\n",
       "      <td>2007</td>\n",
       "    </tr>\n",
       "    <tr>\n",
       "      <td>570010</td>\n",
       "      <td>2.01E+12</td>\n",
       "      <td>-3.348857</td>\n",
       "      <td>55.104618</td>\n",
       "      <td>98</td>\n",
       "      <td>2</td>\n",
       "      <td>2</td>\n",
       "      <td>2</td>\n",
       "      <td>22/12/2007</td>\n",
       "      <td>7</td>\n",
       "      <td>11:31</td>\n",
       "      <td>...</td>\n",
       "      <td>74</td>\n",
       "      <td>None within 50 metres</td>\n",
       "      <td>No physical crossing within 50 meters</td>\n",
       "      <td>Daylight: Street light present</td>\n",
       "      <td>Raining without high winds</td>\n",
       "      <td>Frost/Ice</td>\n",
       "      <td>None</td>\n",
       "      <td>None</td>\n",
       "      <td>Yes</td>\n",
       "      <td>2007</td>\n",
       "    </tr>\n",
       "  </tbody>\n",
       "</table>\n",
       "<p>570011 rows × 26 columns</p>\n",
       "</div>"
      ],
      "text/plain": [
       "       Accident_Index  Longitude   Latitude  Police_Force  Accident_Severity  \\\n",
       "0       200501BS00001  -0.191170  51.489096             1                  2   \n",
       "1       200501BS00002  -0.211708  51.520075             1                  3   \n",
       "2       200501BS00003  -0.206458  51.525301             1                  3   \n",
       "3       200501BS00004  -0.173862  51.482442             1                  3   \n",
       "4       200501BS00005  -0.156618  51.495752             1                  3   \n",
       "...               ...        ...        ...           ...                ...   \n",
       "570006       2.01E+12  -3.210294  54.985289            98                  3   \n",
       "570007       2.01E+12  -3.193693  54.984105            98                  2   \n",
       "570008       2.01E+12  -2.992068  55.166369            98                  3   \n",
       "570009       2.01E+12  -3.058338  54.995154            98                  3   \n",
       "570010       2.01E+12  -3.348857  55.104618            98                  2   \n",
       "\n",
       "        Number_of_Vehicles  Number_of_Casualties        Date  Day_of_Week  \\\n",
       "0                        1                     1  04/01/2005            3   \n",
       "1                        1                     1  05/01/2005            4   \n",
       "2                        2                     1  06/01/2005            5   \n",
       "3                        1                     1  07/01/2005            6   \n",
       "4                        1                     1  10/01/2005            2   \n",
       "...                    ...                   ...         ...          ...   \n",
       "570006                   1                     1  20/12/2007            5   \n",
       "570007                   1                     2  21/12/2007            6   \n",
       "570008                   1                     1  23/12/2007            1   \n",
       "570009                   1                     1  23/12/2007            1   \n",
       "570010                   2                     2  22/12/2007            7   \n",
       "\n",
       "         Time  ...  2nd_Road_Number  Pedestrian_Crossing-Human_Control  \\\n",
       "0       17:42  ...                0              None within 50 metres   \n",
       "1       17:36  ...                0              None within 50 metres   \n",
       "2       00:15  ...                0              None within 50 metres   \n",
       "3       10:35  ...                0              None within 50 metres   \n",
       "4       21:13  ...                0              None within 50 metres   \n",
       "...       ...  ...              ...                                ...   \n",
       "570006  22:01  ...                0              None within 50 metres   \n",
       "570007  13:12  ...                0              None within 50 metres   \n",
       "570008  03:07  ...                0              None within 50 metres   \n",
       "570009  20:00  ...             7076              None within 50 metres   \n",
       "570010  11:31  ...               74              None within 50 metres   \n",
       "\n",
       "            Pedestrian_Crossing-Physical_Facilities  \\\n",
       "0                                    Zebra crossing   \n",
       "1       Pedestrian phase at traffic signal junction   \n",
       "2             No physical crossing within 50 meters   \n",
       "3             No physical crossing within 50 meters   \n",
       "4             No physical crossing within 50 meters   \n",
       "...                                             ...   \n",
       "570006        No physical crossing within 50 meters   \n",
       "570007        No physical crossing within 50 meters   \n",
       "570008        No physical crossing within 50 meters   \n",
       "570009        No physical crossing within 50 meters   \n",
       "570010        No physical crossing within 50 meters   \n",
       "\n",
       "                               Light_Conditions          Weather_Conditions  \\\n",
       "0                Daylight: Street light present  Raining without high winds   \n",
       "1       Darkness: Street lights present and lit     Fine without high winds   \n",
       "2       Darkness: Street lights present and lit     Fine without high winds   \n",
       "3                Daylight: Street light present     Fine without high winds   \n",
       "4             Darkness: Street lighting unknown     Fine without high winds   \n",
       "...                                         ...                         ...   \n",
       "570006            Darkeness: No street lighting                       Other   \n",
       "570007           Daylight: Street light present                       Other   \n",
       "570008            Darkeness: No street lighting                 Fog or mist   \n",
       "570009  Darkness: Street lights present and lit     Fine without high winds   \n",
       "570010           Daylight: Street light present  Raining without high winds   \n",
       "\n",
       "        Road_Surface_Conditions  Special_Conditions_at_Site  \\\n",
       "0                      Wet/Damp                        None   \n",
       "1                           Dry                        None   \n",
       "2                           Dry                        None   \n",
       "3                           Dry                        None   \n",
       "4                      Wet/Damp                        None   \n",
       "...                         ...                         ...   \n",
       "570006                Frost/Ice                        None   \n",
       "570007                Frost/Ice                        None   \n",
       "570008                Frost/Ice                        None   \n",
       "570009                 Wet/Damp                        None   \n",
       "570010                Frost/Ice                        None   \n",
       "\n",
       "       Carriageway_Hazards Did_Police_Officer_Attend_Scene_of_Accident  Year  \n",
       "0                     None                                         Yes  2005  \n",
       "1                     None                                         Yes  2005  \n",
       "2                     None                                         Yes  2005  \n",
       "3                     None                                         Yes  2005  \n",
       "4                     None                                         Yes  2005  \n",
       "...                    ...                                         ...   ...  \n",
       "570006                None                                         Yes  2007  \n",
       "570007                None                                         Yes  2007  \n",
       "570008                None                                         Yes  2007  \n",
       "570009                None                                          No  2007  \n",
       "570010                None                                         Yes  2007  \n",
       "\n",
       "[570011 rows x 26 columns]"
      ]
     },
     "execution_count": 5,
     "metadata": {},
     "output_type": "execute_result"
    }
   ],
   "source": [
    "accidents_05_07[['Accident_Index',\n",
    "       'Longitude', 'Latitude', 'Police_Force', 'Accident_Severity',\n",
    "       'Number_of_Vehicles', 'Number_of_Casualties', 'Date', 'Day_of_Week',\n",
    "       'Time',\n",
    "       '1st_Road_Class', '1st_Road_Number', 'Road_Type', 'Speed_limit','Junction_Control', '2nd_Road_Class',\n",
    "       '2nd_Road_Number', 'Pedestrian_Crossing-Human_Control',\n",
    "       'Pedestrian_Crossing-Physical_Facilities', 'Light_Conditions',\n",
    "       'Weather_Conditions', 'Road_Surface_Conditions',\n",
    "       'Special_Conditions_at_Site', 'Carriageway_Hazards', 'Did_Police_Officer_Attend_Scene_of_Accident', 'Year']]"
   ]
  },
  {
   "cell_type": "code",
   "execution_count": 69,
   "metadata": {},
   "outputs": [
    {
     "data": {
      "text/plain": [
       "Text(0, 0.5, 'Accidents')"
      ]
     },
     "execution_count": 69,
     "metadata": {},
     "output_type": "execute_result"
    },
    {
     "data": {
      "image/png": "[encoded data removed]",
      "text/plain": [
       "<Figure size 432x288 with 1 Axes>"
      ]
     },
     "metadata": {
      "needs_background": "light"
     },
     "output_type": "display_data"
    }
   ],
   "source": [
    "# Police on scene\n",
    "accidents_05_07['Did_Police_Officer_Attend_Scene_of_Accident'].value_counts()\n",
    "\n",
    "sns.countplot(x='Did_Police_Officer_Attend_Scene_of_Accident',data=accidents_05_07)\n",
    "plt.xlabel('Police Officer Attended Scene')\n",
    "plt.ylabel('Accidents')"
   ]
  },
  {
   "cell_type": "code",
   "execution_count": 66,
   "metadata": {
    "scrolled": false
   },
   "outputs": [
    {
     "data": {
      "text/plain": [
       "Text(0, 0.5, 'Accidents')"
      ]
     },
     "execution_count": 66,
     "metadata": {},
     "output_type": "execute_result"
    },
    {
     "data": {
      "image/png": "[encoded data removed]",
      "text/plain": [
       "<Figure size 1440x360 with 1 Axes>"
      ]
     },
     "metadata": {
      "needs_background": "light"
     },
     "output_type": "display_data"
    }
   ],
   "source": [
    "# Road Types\n",
    "accidents_05_07['Road_Type'].value_counts()\n",
    "plt.figure(figsize=(20, 5))\n",
    "sns.countplot(x='Road_Type',data=accidents_05_07)\n",
    "plt.xlabel('Road Type')\n",
    "plt.ylabel('Accidents')"
   ]
  },
  {
   "cell_type": "code",
   "execution_count": 26,
   "metadata": {},
   "outputs": [
    {
     "data": {
      "text/plain": [
       "None                                       558858\n",
       "Other object in carriageway                  5284\n",
       "Any animal (except a ridden horse)           3125\n",
       "Pedestrian in carriageway (not injured)      1172\n",
       "Involvement with previous accident            934\n",
       "Dislodged vehicle load in carriageway         615\n",
       "Name: Carriageway_Hazards, dtype: int64"
      ]
     },
     "execution_count": 26,
     "metadata": {},
     "output_type": "execute_result"
    }
   ],
   "source": [
    "# Carriageway_Hazzards\n",
    "accidents_05_07['Carriageway_Hazards'].value_counts()"
   ]
  },
  {
   "cell_type": "code",
   "execution_count": 39,
   "metadata": {},
   "outputs": [
    {
     "data": {
      "text/plain": [
       "None                                               555325\n",
       "Roadworks                                            6877\n",
       "Ol or diesel                                         2223\n",
       "Mud                                                  1908\n",
       "Road surface defective                               1232\n",
       "Auto traffic singal out                              1177\n",
       "Permanent sign or marking defective or obscured       945\n",
       "Auto traffic signal partly defective                  313\n",
       "Name: Special_Conditions_at_Site, dtype: int64"
      ]
     },
     "execution_count": 39,
     "metadata": {},
     "output_type": "execute_result"
    }
   ],
   "source": [
    "# Special conditions\n",
    "accidents_05_07['Special_Conditions_at_Site'].value_counts()"
   ]
  },
  {
   "cell_type": "code",
   "execution_count": 10,
   "metadata": {},
   "outputs": [
    {
     "data": {
      "text/plain": [
       "Fine without high winds       454074\n",
       "Raining without high winds     68623\n",
       "Other                          13419\n",
       "Unknown                        11378\n",
       "Raining with high winds         8041\n",
       "Fine with high winds            7545\n",
       "Fog or mist                     3380\n",
       "Snowing without high winds      2984\n",
       "Snowing with high winds          547\n",
       "Name: Weather_Conditions, dtype: int64"
      ]
     },
     "execution_count": 10,
     "metadata": {},
     "output_type": "execute_result"
    }
   ],
   "source": [
    "# Weather conditions\n",
    "accidents_05_07['Weather_Conditions'].value_counts()"
   ]
  },
  {
   "cell_type": "code",
   "execution_count": 47,
   "metadata": {},
   "outputs": [
    {
     "data": {
      "text/plain": [
       "Dry                          389897\n",
       "Wet/Damp                     168695\n",
       "Frost/Ice                      7909\n",
       "Snow                           2095\n",
       "Flood (Over 3cm of water)       753\n",
       "Name: Road_Surface_Conditions, dtype: int64"
      ]
     },
     "execution_count": 47,
     "metadata": {},
     "output_type": "execute_result"
    }
   ],
   "source": [
    "# Road Surface\n",
    "accidents_05_07['Road_Surface_Conditions'].value_counts()\n",
    "# plt.figure(figsize=(20, 5))\n",
    "# plt.scatter(x='Road_Surface_Conditions',y='Accident_Severity',data=accidents_05_07)"
   ]
  },
  {
   "cell_type": "code",
   "execution_count": 12,
   "metadata": {},
   "outputs": [
    {
     "data": {
      "text/plain": [
       "Daylight: Street light present               414282\n",
       "Darkness: Street lights present and lit      114406\n",
       "Darkeness: No street lighting                 34200\n",
       "Darkness: Street lighting unknown              4656\n",
       "Darkness: Street lights present but unlit      2467\n",
       "Name: Light_Conditions, dtype: int64"
      ]
     },
     "execution_count": 12,
     "metadata": {},
     "output_type": "execute_result"
    }
   ],
   "source": [
    "# Light conditions\n",
    "accidents_05_07['Light_Conditions'].value_counts()"
   ]
  },
  {
   "cell_type": "code",
   "execution_count": 13,
   "metadata": {},
   "outputs": [
    {
     "data": {
      "text/plain": [
       "No physical crossing within 50 meters          486482\n",
       "Pedestrian phase at traffic signal junction     33157\n",
       "non-junction pedestrian crossing                27472\n",
       "Zebra crossing                                  12847\n",
       "Central refuge                                   8638\n",
       "Footbridge or subway                             1381\n",
       "Name: Pedestrian_Crossing-Physical_Facilities, dtype: int64"
      ]
     },
     "execution_count": 13,
     "metadata": {},
     "output_type": "execute_result"
    }
   ],
   "source": [
    "# Pedestrian crossing facilities\n",
    "accidents_05_07['Pedestrian_Crossing-Physical_Facilities'].value_counts()"
   ]
  },
  {
   "cell_type": "code",
   "execution_count": 14,
   "metadata": {},
   "outputs": [
    {
     "data": {
      "text/plain": [
       "None within 50 metres                 566636\n",
       "Control by other authorised person      1989\n",
       "Control by school crossing patrol       1369\n",
       "Name: Pedestrian_Crossing-Human_Control, dtype: int64"
      ]
     },
     "execution_count": 14,
     "metadata": {},
     "output_type": "execute_result"
    }
   ],
   "source": [
    "# Pedestrian crossing control\n",
    "accidents_05_07['Pedestrian_Crossing-Human_Control'].value_counts()"
   ]
  },
  {
   "cell_type": "code",
   "execution_count": 15,
   "metadata": {},
   "outputs": [
    {
     "data": {
      "text/plain": [
       "Giveway or uncontrolled     271570\n",
       "Automatic traffic signal     56121\n",
       "Stop Sign                     4320\n",
       "Authorised person             1055\n",
       "Name: Junction_Control, dtype: int64"
      ]
     },
     "execution_count": 15,
     "metadata": {},
     "output_type": "execute_result"
    }
   ],
   "source": [
    "# Junction Controls\n",
    "accidents_05_07['Junction_Control'].value_counts()"
   ]
  },
  {
   "cell_type": "code",
   "execution_count": 16,
   "metadata": {},
   "outputs": [
    {
     "data": {
      "text/plain": [
       "3    253965\n",
       "6    169601\n",
       "4     72109\n",
       "5     49362\n",
       "1     23606\n",
       "2      1368\n",
       "Name: 1st_Road_Class, dtype: int64"
      ]
     },
     "execution_count": 16,
     "metadata": {},
     "output_type": "execute_result"
    }
   ],
   "source": [
    "# Road Classes\n",
    "accidents_05_07['1st_Road_Class'].value_counts()"
   ]
  },
  {
   "cell_type": "code",
   "execution_count": 17,
   "metadata": {},
   "outputs": [
    {
     "data": {
      "text/plain": [
       "-1    241676\n",
       " 6    223284\n",
       " 3     54931\n",
       " 5     24342\n",
       " 4     21601\n",
       " 1      3739\n",
       " 2       438\n",
       "Name: 2nd_Road_Class, dtype: int64"
      ]
     },
     "execution_count": 17,
     "metadata": {},
     "output_type": "execute_result"
    }
   ],
   "source": [
    "# Road Classes\n",
    "accidents_05_07['2nd_Road_Class'].value_counts()"
   ]
  },
  {
   "cell_type": "code",
   "execution_count": 18,
   "metadata": {},
   "outputs": [
    {
     "data": {
      "text/plain": [
       "<matplotlib.axes._subplots.AxesSubplot at 0x25e8c63fdc8>"
      ]
     },
     "execution_count": 18,
     "metadata": {},
     "output_type": "execute_result"
    },
    {
     "data": {
      "image/png": "[encoded data removed]",
      "text/plain": [
       "<Figure size 432x288 with 1 Axes>"
      ]
     },
     "metadata": {
      "needs_background": "light"
     },
     "output_type": "display_data"
    }
   ],
   "source": [
    "# Speed limits\n",
    "speed_limits = accidents_05_07['Speed_limit'].value_counts()\n",
    "sns.countplot(x='Speed_limit',data=accidents_05_07)"
   ]
  },
  {
   "cell_type": "code",
   "execution_count": 50,
   "metadata": {},
   "outputs": [
    {
     "data": {
      "text/plain": [
       "3    487161\n",
       "2     74297\n",
       "1      8553\n",
       "Name: Accident_Severity, dtype: int64"
      ]
     },
     "execution_count": 50,
     "metadata": {},
     "output_type": "execute_result"
    }
   ],
   "source": [
    "accidents_05_07['Accident_Severity'].value_counts()"
   ]
  },
  {
   "cell_type": "markdown",
   "metadata": {},
   "source": [
    "### Data cleaning"
   ]
  },
  {
   "cell_type": "code",
   "execution_count": null,
   "metadata": {},
   "outputs": [],
   "source": []
  },
  {
   "cell_type": "code",
   "execution_count": null,
   "metadata": {},
   "outputs": [],
   "source": []
  },
  {
   "cell_type": "code",
   "execution_count": null,
   "metadata": {},
   "outputs": [],
   "source": []
  }
 ],
 "metadata": {
  "kernelspec": {
   "display_name": "Python 3",
   "language": "python",
   "name": "python3"
  },
  "language_info": {
   "codemirror_mode": {
    "name": "ipython",
    "version": 3
   },
   "file_extension": ".py",
   "mimetype": "text/x-python",
   "name": "python",
   "nbconvert_exporter": "python",
   "pygments_lexer": "ipython3",
   "version": "3.7.4"
  }
 },
 "nbformat": 4,
 "nbformat_minor": 2
}
