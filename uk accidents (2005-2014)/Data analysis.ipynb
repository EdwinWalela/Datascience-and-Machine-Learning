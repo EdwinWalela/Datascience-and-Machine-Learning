{
 "cells": [
  {
   "cell_type": "markdown",
   "metadata": {},
   "source": [
    "# Road accidents in UK between 2005 - 2014"
   ]
  },
  {
   "cell_type": "markdown",
   "metadata": {},
   "source": [
    "## Exploratory Data Analysis"
   ]
  },
  {
   "cell_type": "code",
   "execution_count": 1,
   "metadata": {},
   "outputs": [],
   "source": [
    "import numpy as np\n",
    "import pandas as pd\n",
    "import matplotlib.pyplot as plt\n",
    "import seaborn as sns\n",
    "sns.set_style('darkgrid')\n",
    "%matplotlib inline"
   ]
  },
  {
   "cell_type": "code",
   "execution_count": 2,
   "metadata": {},
   "outputs": [
    {
     "name": "stderr",
     "output_type": "stream",
     "text": [
      "E:\\Software\\Anaconda3\\lib\\site-packages\\IPython\\core\\interactiveshell.py:3058: DtypeWarning: Columns (31) have mixed types. Specify dtype option on import or set low_memory=False.\n",
      "  interactivity=interactivity, compiler=compiler, result=result)\n"
     ]
    }
   ],
   "source": [
    "accidents_05_07 = pd.read_csv('accidents_2005_to_2007.csv')"
   ]
  },
  {
   "cell_type": "code",
   "execution_count": 3,
   "metadata": {},
   "outputs": [
    {
     "name": "stdout",
     "output_type": "stream",
     "text": [
      "<class 'pandas.core.frame.DataFrame'>\n",
      "RangeIndex: 570011 entries, 0 to 570010\n",
      "Data columns (total 33 columns):\n",
      "Accident_Index                                 570011 non-null object\n",
      "Location_Easting_OSGR                          569910 non-null float64\n",
      "Location_Northing_OSGR                         569910 non-null float64\n",
      "Longitude                                      569910 non-null float64\n",
      "Latitude                                       569910 non-null float64\n",
      "Police_Force                                   570011 non-null int64\n",
      "Accident_Severity                              570011 non-null int64\n",
      "Number_of_Vehicles                             570011 non-null int64\n",
      "Number_of_Casualties                           570011 non-null int64\n",
      "Date                                           570011 non-null object\n",
      "Day_of_Week                                    570011 non-null int64\n",
      "Time                                           569944 non-null object\n",
      "Local_Authority_(District)                     570011 non-null int64\n",
      "Local_Authority_(Highway)                      570011 non-null object\n",
      "1st_Road_Class                                 570011 non-null int64\n",
      "1st_Road_Number                                570011 non-null int64\n",
      "Road_Type                                      570011 non-null object\n",
      "Speed_limit                                    570011 non-null int64\n",
      "Junction_Detail                                0 non-null float64\n",
      "Junction_Control                               333066 non-null object\n",
      "2nd_Road_Class                                 570011 non-null int64\n",
      "2nd_Road_Number                                570011 non-null int64\n",
      "Pedestrian_Crossing-Human_Control              569994 non-null object\n",
      "Pedestrian_Crossing-Physical_Facilities        569977 non-null object\n",
      "Light_Conditions                               570011 non-null object\n",
      "Weather_Conditions                             569991 non-null object\n",
      "Road_Surface_Conditions                        569349 non-null object\n",
      "Special_Conditions_at_Site                     570000 non-null object\n",
      "Carriageway_Hazards                            569988 non-null object\n",
      "Urban_or_Rural_Area                            570011 non-null int64\n",
      "Did_Police_Officer_Attend_Scene_of_Accident    567636 non-null object\n",
      "LSOA_of_Accident_Location                      522500 non-null object\n",
      "Year                                           570011 non-null int64\n",
      "dtypes: float64(5), int64(13), object(15)\n",
      "memory usage: 143.5+ MB\n"
     ]
    }
   ],
   "source": [
    "accidents_05_07.info()"
   ]
  },
  {
   "cell_type": "code",
   "execution_count": 4,
   "metadata": {},
   "outputs": [
    {
     "data": {
      "text/plain": [
       "Index(['Accident_Index', 'Location_Easting_OSGR', 'Location_Northing_OSGR',\n",
       "       'Longitude', 'Latitude', 'Police_Force', 'Accident_Severity',\n",
       "       'Number_of_Vehicles', 'Number_of_Casualties', 'Date', 'Day_of_Week',\n",
       "       'Time', 'Local_Authority_(District)', 'Local_Authority_(Highway)',\n",
       "       '1st_Road_Class', '1st_Road_Number', 'Road_Type', 'Speed_limit',\n",
       "       'Junction_Detail', 'Junction_Control', '2nd_Road_Class',\n",
       "       '2nd_Road_Number', 'Pedestrian_Crossing-Human_Control',\n",
       "       'Pedestrian_Crossing-Physical_Facilities', 'Light_Conditions',\n",
       "       'Weather_Conditions', 'Road_Surface_Conditions',\n",
       "       'Special_Conditions_at_Site', 'Carriageway_Hazards',\n",
       "       'Urban_or_Rural_Area', 'Did_Police_Officer_Attend_Scene_of_Accident',\n",
       "       'LSOA_of_Accident_Location', 'Year'],\n",
       "      dtype='object')"
      ]
     },
     "execution_count": 4,
     "metadata": {},
     "output_type": "execute_result"
    }
   ],
   "source": [
    "accidents_05_07.columns"
   ]
  },
  {
   "cell_type": "code",
   "execution_count": 30,
   "metadata": {},
   "outputs": [],
   "source": [
    "accidents_05_07[['Accident_Index',\n",
    "       'Longitude', 'Latitude', 'Police_Force', 'Accident_Severity',\n",
    "       'Number_of_Vehicles', 'Number_of_Casualties', 'Date', 'Day_of_Week',\n",
    "       'Time',\n",
    "       '1st_Road_Class', '1st_Road_Number', 'Road_Type', 'Speed_limit','Junction_Control', '2nd_Road_Class',\n",
    "       '2nd_Road_Number', 'Pedestrian_Crossing-Human_Control',\n",
    "       'Pedestrian_Crossing-Physical_Facilities', 'Light_Conditions',\n",
    "       'Weather_Conditions', 'Road_Surface_Conditions',\n",
    "       'Special_Conditions_at_Site', 'Carriageway_Hazards', 'Did_Police_Officer_Attend_Scene_of_Accident', 'Year']]"
   ]
  },
  {
   "cell_type": "code",
   "execution_count": 6,
   "metadata": {},
   "outputs": [
    {
     "data": {
      "text/plain": [
       "Text(0, 0.5, 'Accidents')"
      ]
     },
     "execution_count": 6,
     "metadata": {},
     "output_type": "execute_result"
    },
    {
     "data": {
      "image/png": "[encoded data removed]",
      "text/plain": [
       "<Figure size 432x288 with 1 Axes>"
      ]
     },
     "metadata": {
      "needs_background": "light"
     },
     "output_type": "display_data"
    }
   ],
   "source": [
    "# Police on scene\n",
    "accidents_05_07['Did_Police_Officer_Attend_Scene_of_Accident'].value_counts()\n",
    "\n",
    "sns.countplot(x='Did_Police_Officer_Attend_Scene_of_Accident',data=accidents_05_07)\n",
    "plt.xlabel('Police Officer Attended Scene')\n",
    "plt.ylabel('Accidents')"
   ]
  },
  {
   "cell_type": "code",
   "execution_count": 7,
   "metadata": {
    "scrolled": false
   },
   "outputs": [
    {
     "data": {
      "text/plain": [
       "Text(0, 0.5, 'Accidents')"
      ]
     },
     "execution_count": 7,
     "metadata": {},
     "output_type": "execute_result"
    },
    {
     "data": {
      "image/png": "[encoded data removed]",
      "text/plain": [
       "<Figure size 1440x360 with 1 Axes>"
      ]
     },
     "metadata": {
      "needs_background": "light"
     },
     "output_type": "display_data"
    }
   ],
   "source": [
    "# Road Types\n",
    "accidents_05_07['Road_Type'].value_counts()\n",
    "plt.figure(figsize=(20, 5))\n",
    "sns.countplot(x='Road_Type',data=accidents_05_07)\n",
    "plt.xlabel('Road Type')\n",
    "plt.ylabel('Accidents')"
   ]
  },
  {
   "cell_type": "code",
   "execution_count": 8,
   "metadata": {},
   "outputs": [
    {
     "data": {
      "text/plain": [
       "None                                       558858\n",
       "Other object in carriageway                  5284\n",
       "Any animal (except a ridden horse)           3125\n",
       "Pedestrian in carriageway (not injured)      1172\n",
       "Involvement with previous accident            934\n",
       "Dislodged vehicle load in carriageway         615\n",
       "Name: Carriageway_Hazards, dtype: int64"
      ]
     },
     "execution_count": 8,
     "metadata": {},
     "output_type": "execute_result"
    }
   ],
   "source": [
    "# Carriageway_Hazzards\n",
    "accidents_05_07['Carriageway_Hazards'].value_counts()"
   ]
  },
  {
   "cell_type": "code",
   "execution_count": 9,
   "metadata": {},
   "outputs": [
    {
     "data": {
      "text/plain": [
       "None                                               555325\n",
       "Roadworks                                            6877\n",
       "Ol or diesel                                         2223\n",
       "Mud                                                  1908\n",
       "Road surface defective                               1232\n",
       "Auto traffic singal out                              1177\n",
       "Permanent sign or marking defective or obscured       945\n",
       "Auto traffic signal partly defective                  313\n",
       "Name: Special_Conditions_at_Site, dtype: int64"
      ]
     },
     "execution_count": 9,
     "metadata": {},
     "output_type": "execute_result"
    }
   ],
   "source": [
    "# Special conditions\n",
    "accidents_05_07['Special_Conditions_at_Site'].value_counts()"
   ]
  },
  {
   "cell_type": "code",
   "execution_count": 10,
   "metadata": {},
   "outputs": [
    {
     "data": {
      "text/plain": [
       "Fine without high winds       454074\n",
       "Raining without high winds     68623\n",
       "Other                          13419\n",
       "Unknown                        11378\n",
       "Raining with high winds         8041\n",
       "Fine with high winds            7545\n",
       "Fog or mist                     3380\n",
       "Snowing without high winds      2984\n",
       "Snowing with high winds          547\n",
       "Name: Weather_Conditions, dtype: int64"
      ]
     },
     "execution_count": 10,
     "metadata": {},
     "output_type": "execute_result"
    }
   ],
   "source": [
    "# Weather conditions\n",
    "accidents_05_07['Weather_Conditions'].value_counts()"
   ]
  },
  {
   "cell_type": "code",
   "execution_count": 11,
   "metadata": {},
   "outputs": [
    {
     "data": {
      "text/plain": [
       "Dry                          389897\n",
       "Wet/Damp                     168695\n",
       "Frost/Ice                      7909\n",
       "Snow                           2095\n",
       "Flood (Over 3cm of water)       753\n",
       "Name: Road_Surface_Conditions, dtype: int64"
      ]
     },
     "execution_count": 11,
     "metadata": {},
     "output_type": "execute_result"
    }
   ],
   "source": [
    "# Road Surface\n",
    "accidents_05_07['Road_Surface_Conditions'].value_counts()"
   ]
  },
  {
   "cell_type": "code",
   "execution_count": 12,
   "metadata": {},
   "outputs": [
    {
     "data": {
      "text/plain": [
       "Daylight: Street light present               414282\n",
       "Darkness: Street lights present and lit      114406\n",
       "Darkeness: No street lighting                 34200\n",
       "Darkness: Street lighting unknown              4656\n",
       "Darkness: Street lights present but unlit      2467\n",
       "Name: Light_Conditions, dtype: int64"
      ]
     },
     "execution_count": 12,
     "metadata": {},
     "output_type": "execute_result"
    }
   ],
   "source": [
    "# Light conditions\n",
    "accidents_05_07['Light_Conditions'].value_counts()"
   ]
  },
  {
   "cell_type": "code",
   "execution_count": 13,
   "metadata": {},
   "outputs": [
    {
     "data": {
      "text/plain": [
       "No physical crossing within 50 meters          486482\n",
       "Pedestrian phase at traffic signal junction     33157\n",
       "non-junction pedestrian crossing                27472\n",
       "Zebra crossing                                  12847\n",
       "Central refuge                                   8638\n",
       "Footbridge or subway                             1381\n",
       "Name: Pedestrian_Crossing-Physical_Facilities, dtype: int64"
      ]
     },
     "execution_count": 13,
     "metadata": {},
     "output_type": "execute_result"
    }
   ],
   "source": [
    "# Pedestrian crossing facilities\n",
    "accidents_05_07['Pedestrian_Crossing-Physical_Facilities'].value_counts()"
   ]
  },
  {
   "cell_type": "code",
   "execution_count": 14,
   "metadata": {},
   "outputs": [
    {
     "data": {
      "text/plain": [
       "None within 50 metres                 566636\n",
       "Control by other authorised person      1989\n",
       "Control by school crossing patrol       1369\n",
       "Name: Pedestrian_Crossing-Human_Control, dtype: int64"
      ]
     },
     "execution_count": 14,
     "metadata": {},
     "output_type": "execute_result"
    }
   ],
   "source": [
    "# Pedestrian crossing control\n",
    "accidents_05_07['Pedestrian_Crossing-Human_Control'].value_counts()"
   ]
  },
  {
   "cell_type": "code",
   "execution_count": 15,
   "metadata": {},
   "outputs": [
    {
     "data": {
      "text/plain": [
       "Giveway or uncontrolled     271570\n",
       "Automatic traffic signal     56121\n",
       "Stop Sign                     4320\n",
       "Authorised person             1055\n",
       "Name: Junction_Control, dtype: int64"
      ]
     },
     "execution_count": 15,
     "metadata": {},
     "output_type": "execute_result"
    }
   ],
   "source": [
    "# Junction Controls\n",
    "accidents_05_07['Junction_Control'].value_counts()"
   ]
  },
  {
   "cell_type": "code",
   "execution_count": 16,
   "metadata": {},
   "outputs": [
    {
     "data": {
      "text/plain": [
       "3    253965\n",
       "6    169601\n",
       "4     72109\n",
       "5     49362\n",
       "1     23606\n",
       "2      1368\n",
       "Name: 1st_Road_Class, dtype: int64"
      ]
     },
     "execution_count": 16,
     "metadata": {},
     "output_type": "execute_result"
    }
   ],
   "source": [
    "# Road Classes\n",
    "accidents_05_07['1st_Road_Class'].value_counts()"
   ]
  },
  {
   "cell_type": "code",
   "execution_count": 17,
   "metadata": {},
   "outputs": [
    {
     "data": {
      "text/plain": [
       "-1    241676\n",
       " 6    223284\n",
       " 3     54931\n",
       " 5     24342\n",
       " 4     21601\n",
       " 1      3739\n",
       " 2       438\n",
       "Name: 2nd_Road_Class, dtype: int64"
      ]
     },
     "execution_count": 17,
     "metadata": {},
     "output_type": "execute_result"
    }
   ],
   "source": [
    "# Road Classes\n",
    "accidents_05_07['2nd_Road_Class'].value_counts()"
   ]
  },
  {
   "cell_type": "code",
   "execution_count": 29,
   "metadata": {},
   "outputs": [
    {
     "data": {
      "text/plain": [
       "Text(0, 0.5, 'Accidents')"
      ]
     },
     "execution_count": 29,
     "metadata": {},
     "output_type": "execute_result"
    },
    {
     "data": {
      "image/png": "[encoded data removed]",
      "text/plain": [
       "<Figure size 432x288 with 1 Axes>"
      ]
     },
     "metadata": {
      "needs_background": "light"
     },
     "output_type": "display_data"
    }
   ],
   "source": [
    "# Speed limits\n",
    "speed_limits = accidents_05_07['Speed_limit'].value_counts()\n",
    "sns.countplot(x='Speed_limit',data=accidents_05_07)\n",
    "plt.xlabel('Speed Limit')\n",
    "plt.ylabel('Accidents')"
   ]
  },
  {
   "cell_type": "code",
   "execution_count": 19,
   "metadata": {},
   "outputs": [
    {
     "data": {
      "text/plain": [
       "3    487161\n",
       "2     74297\n",
       "1      8553\n",
       "Name: Accident_Severity, dtype: int64"
      ]
     },
     "execution_count": 19,
     "metadata": {},
     "output_type": "execute_result"
    }
   ],
   "source": [
    "accidents_05_07['Accident_Severity'].value_counts()"
   ]
  },
  {
   "cell_type": "markdown",
   "metadata": {},
   "source": [
    "### Data cleaning and encoding"
   ]
  },
  {
   "cell_type": "code",
   "execution_count": 241,
   "metadata": {},
   "outputs": [],
   "source": [
    "data = accidents_05_07[[\n",
    "       'Longitude', 'Latitude',\n",
    "       'Number_of_Vehicles', 'Number_of_Casualties', 'Day_of_Week',\n",
    "       '1st_Road_Class', '1st_Road_Number', 'Road_Type', 'Speed_limit','Junction_Control', '2nd_Road_Class',\n",
    "       '2nd_Road_Number', 'Pedestrian_Crossing-Human_Control',\n",
    "       'Pedestrian_Crossing-Physical_Facilities', 'Light_Conditions',\n",
    "       'Weather_Conditions', 'Road_Surface_Conditions',\n",
    "       'Special_Conditions_at_Site', 'Carriageway_Hazards', 'Did_Police_Officer_Attend_Scene_of_Accident', 'Year'\n",
    "]]\n"
   ]
  },
  {
   "cell_type": "code",
   "execution_count": 242,
   "metadata": {},
   "outputs": [
    {
     "name": "stderr",
     "output_type": "stream",
     "text": [
      "E:\\Software\\Anaconda3\\lib\\site-packages\\pandas\\core\\generic.py:6287: SettingWithCopyWarning: \n",
      "A value is trying to be set on a copy of a slice from a DataFrame\n",
      "\n",
      "See the caveats in the documentation: http://pandas.pydata.org/pandas-docs/stable/user_guide/indexing.html#returning-a-view-versus-a-copy\n",
      "  self._update_inplace(new_data)\n"
     ]
    }
   ],
   "source": [
    "data['Longitude'].fillna(value=data['Longitude'].mean(),inplace=True)\n",
    "data['Latitude'].fillna(value=data['Latitude'].mean(),inplace=True)"
   ]
  },
  {
   "cell_type": "code",
   "execution_count": 243,
   "metadata": {},
   "outputs": [],
   "source": [
    "columns = [ \n",
    "    'Road_Type',\n",
    "    'Junction_Control',\n",
    "    'Pedestrian_Crossing-Human_Control',\n",
    "    'Pedestrian_Crossing-Physical_Facilities',\n",
    "    'Light_Conditions',\n",
    "    'Weather_Conditions',\n",
    "    'Road_Surface_Conditions',\n",
    "    'Special_Conditions_at_Site',\n",
    "    'Carriageway_Hazards',\n",
    "    'Did_Police_Officer_Attend_Scene_of_Accident'\n",
    "]\n",
    "\n",
    "prefix = [\n",
    "    'road',\n",
    "    'junc-control',\n",
    "    'crossing-control',\n",
    "    'crossing-facility',\n",
    "    'light',\n",
    "    'weather',\n",
    "    'road-cond',\n",
    "    'site',\n",
    "    'hazard',\n",
    "    'police'\n",
    "]\n",
    "\n",
    "data = pd.get_dummies(data,prefix=prefix,columns=columns)"
   ]
  },
  {
   "cell_type": "code",
   "execution_count": 244,
   "metadata": {},
   "outputs": [
    {
     "data": {
      "text/html": [
       "<div>\n",
       "<style scoped>\n",
       "    .dataframe tbody tr th:only-of-type {\n",
       "        vertical-align: middle;\n",
       "    }\n",
       "\n",
       "    .dataframe tbody tr th {\n",
       "        vertical-align: top;\n",
       "    }\n",
       "\n",
       "    .dataframe thead th {\n",
       "        text-align: right;\n",
       "    }\n",
       "</style>\n",
       "<table border=\"1\" class=\"dataframe\">\n",
       "  <thead>\n",
       "    <tr style=\"text-align: right;\">\n",
       "      <th></th>\n",
       "      <th>Longitude</th>\n",
       "      <th>Latitude</th>\n",
       "      <th>Number_of_Vehicles</th>\n",
       "      <th>Number_of_Casualties</th>\n",
       "      <th>Day_of_Week</th>\n",
       "      <th>1st_Road_Class</th>\n",
       "      <th>1st_Road_Number</th>\n",
       "      <th>Speed_limit</th>\n",
       "      <th>2nd_Road_Class</th>\n",
       "      <th>2nd_Road_Number</th>\n",
       "      <th>...</th>\n",
       "      <th>site_Road surface defective</th>\n",
       "      <th>site_Roadworks</th>\n",
       "      <th>hazard_Any animal (except a ridden horse)</th>\n",
       "      <th>hazard_Dislodged vehicle load in carriageway</th>\n",
       "      <th>hazard_Involvement with previous accident</th>\n",
       "      <th>hazard_None</th>\n",
       "      <th>hazard_Other object in carriageway</th>\n",
       "      <th>hazard_Pedestrian in carriageway (not injured)</th>\n",
       "      <th>police_No</th>\n",
       "      <th>police_Yes</th>\n",
       "    </tr>\n",
       "  </thead>\n",
       "  <tbody>\n",
       "    <tr>\n",
       "      <td>0</td>\n",
       "      <td>-0.191170</td>\n",
       "      <td>51.489096</td>\n",
       "      <td>1</td>\n",
       "      <td>1</td>\n",
       "      <td>3</td>\n",
       "      <td>3</td>\n",
       "      <td>3218</td>\n",
       "      <td>30</td>\n",
       "      <td>-1</td>\n",
       "      <td>0</td>\n",
       "      <td>...</td>\n",
       "      <td>0</td>\n",
       "      <td>0</td>\n",
       "      <td>0</td>\n",
       "      <td>0</td>\n",
       "      <td>0</td>\n",
       "      <td>1</td>\n",
       "      <td>0</td>\n",
       "      <td>0</td>\n",
       "      <td>0</td>\n",
       "      <td>1</td>\n",
       "    </tr>\n",
       "    <tr>\n",
       "      <td>1</td>\n",
       "      <td>-0.211708</td>\n",
       "      <td>51.520075</td>\n",
       "      <td>1</td>\n",
       "      <td>1</td>\n",
       "      <td>4</td>\n",
       "      <td>4</td>\n",
       "      <td>450</td>\n",
       "      <td>30</td>\n",
       "      <td>5</td>\n",
       "      <td>0</td>\n",
       "      <td>...</td>\n",
       "      <td>0</td>\n",
       "      <td>0</td>\n",
       "      <td>0</td>\n",
       "      <td>0</td>\n",
       "      <td>0</td>\n",
       "      <td>1</td>\n",
       "      <td>0</td>\n",
       "      <td>0</td>\n",
       "      <td>0</td>\n",
       "      <td>1</td>\n",
       "    </tr>\n",
       "    <tr>\n",
       "      <td>2</td>\n",
       "      <td>-0.206458</td>\n",
       "      <td>51.525301</td>\n",
       "      <td>2</td>\n",
       "      <td>1</td>\n",
       "      <td>5</td>\n",
       "      <td>5</td>\n",
       "      <td>0</td>\n",
       "      <td>30</td>\n",
       "      <td>-1</td>\n",
       "      <td>0</td>\n",
       "      <td>...</td>\n",
       "      <td>0</td>\n",
       "      <td>0</td>\n",
       "      <td>0</td>\n",
       "      <td>0</td>\n",
       "      <td>0</td>\n",
       "      <td>1</td>\n",
       "      <td>0</td>\n",
       "      <td>0</td>\n",
       "      <td>0</td>\n",
       "      <td>1</td>\n",
       "    </tr>\n",
       "    <tr>\n",
       "      <td>3</td>\n",
       "      <td>-0.173862</td>\n",
       "      <td>51.482442</td>\n",
       "      <td>1</td>\n",
       "      <td>1</td>\n",
       "      <td>6</td>\n",
       "      <td>3</td>\n",
       "      <td>3220</td>\n",
       "      <td>30</td>\n",
       "      <td>-1</td>\n",
       "      <td>0</td>\n",
       "      <td>...</td>\n",
       "      <td>0</td>\n",
       "      <td>0</td>\n",
       "      <td>0</td>\n",
       "      <td>0</td>\n",
       "      <td>0</td>\n",
       "      <td>1</td>\n",
       "      <td>0</td>\n",
       "      <td>0</td>\n",
       "      <td>0</td>\n",
       "      <td>1</td>\n",
       "    </tr>\n",
       "    <tr>\n",
       "      <td>4</td>\n",
       "      <td>-0.156618</td>\n",
       "      <td>51.495752</td>\n",
       "      <td>1</td>\n",
       "      <td>1</td>\n",
       "      <td>2</td>\n",
       "      <td>6</td>\n",
       "      <td>0</td>\n",
       "      <td>30</td>\n",
       "      <td>-1</td>\n",
       "      <td>0</td>\n",
       "      <td>...</td>\n",
       "      <td>0</td>\n",
       "      <td>0</td>\n",
       "      <td>0</td>\n",
       "      <td>0</td>\n",
       "      <td>0</td>\n",
       "      <td>1</td>\n",
       "      <td>0</td>\n",
       "      <td>0</td>\n",
       "      <td>0</td>\n",
       "      <td>1</td>\n",
       "    </tr>\n",
       "  </tbody>\n",
       "</table>\n",
       "<p>5 rows × 65 columns</p>\n",
       "</div>"
      ],
      "text/plain": [
       "   Longitude   Latitude  Number_of_Vehicles  Number_of_Casualties  \\\n",
       "0  -0.191170  51.489096                   1                     1   \n",
       "1  -0.211708  51.520075                   1                     1   \n",
       "2  -0.206458  51.525301                   2                     1   \n",
       "3  -0.173862  51.482442                   1                     1   \n",
       "4  -0.156618  51.495752                   1                     1   \n",
       "\n",
       "   Day_of_Week  1st_Road_Class  1st_Road_Number  Speed_limit  2nd_Road_Class  \\\n",
       "0            3               3             3218           30              -1   \n",
       "1            4               4              450           30               5   \n",
       "2            5               5                0           30              -1   \n",
       "3            6               3             3220           30              -1   \n",
       "4            2               6                0           30              -1   \n",
       "\n",
       "   2nd_Road_Number  ...  site_Road surface defective  site_Roadworks  \\\n",
       "0                0  ...                            0               0   \n",
       "1                0  ...                            0               0   \n",
       "2                0  ...                            0               0   \n",
       "3                0  ...                            0               0   \n",
       "4                0  ...                            0               0   \n",
       "\n",
       "   hazard_Any animal (except a ridden horse)  \\\n",
       "0                                          0   \n",
       "1                                          0   \n",
       "2                                          0   \n",
       "3                                          0   \n",
       "4                                          0   \n",
       "\n",
       "   hazard_Dislodged vehicle load in carriageway  \\\n",
       "0                                             0   \n",
       "1                                             0   \n",
       "2                                             0   \n",
       "3                                             0   \n",
       "4                                             0   \n",
       "\n",
       "   hazard_Involvement with previous accident  hazard_None  \\\n",
       "0                                          0            1   \n",
       "1                                          0            1   \n",
       "2                                          0            1   \n",
       "3                                          0            1   \n",
       "4                                          0            1   \n",
       "\n",
       "   hazard_Other object in carriageway  \\\n",
       "0                                   0   \n",
       "1                                   0   \n",
       "2                                   0   \n",
       "3                                   0   \n",
       "4                                   0   \n",
       "\n",
       "   hazard_Pedestrian in carriageway (not injured)  police_No  police_Yes  \n",
       "0                                               0          0           1  \n",
       "1                                               0          0           1  \n",
       "2                                               0          0           1  \n",
       "3                                               0          0           1  \n",
       "4                                               0          0           1  \n",
       "\n",
       "[5 rows x 65 columns]"
      ]
     },
     "execution_count": 244,
     "metadata": {},
     "output_type": "execute_result"
    }
   ],
   "source": [
    "data.head()"
   ]
  },
  {
   "cell_type": "code",
   "execution_count": null,
   "metadata": {},
   "outputs": [],
   "source": []
  },
  {
   "cell_type": "markdown",
   "metadata": {},
   "source": [
    "## Goal: Predicting Number of casualties"
   ]
  },
  {
   "cell_type": "markdown",
   "metadata": {},
   "source": [
    "### Model Selection & Data Splitting"
   ]
  },
  {
   "cell_type": "code",
   "execution_count": 101,
   "metadata": {},
   "outputs": [],
   "source": [
    "from sklearn.model_selection import train_test_split\n",
    "from sklearn.linear_model import LinearRegression"
   ]
  },
  {
   "cell_type": "code",
   "execution_count": 246,
   "metadata": {},
   "outputs": [],
   "source": [
    "x = data\n",
    "y = data['Number_of_Casualties']"
   ]
  },
  {
   "cell_type": "code",
   "execution_count": 248,
   "metadata": {},
   "outputs": [],
   "source": [
    "X_train,X_test,y_train,y_test = train_test_split(x,y,test_size=0.3)"
   ]
  },
  {
   "cell_type": "code",
   "execution_count": 249,
   "metadata": {},
   "outputs": [],
   "source": [
    "lm = LinearRegression()"
   ]
  },
  {
   "cell_type": "code",
   "execution_count": 250,
   "metadata": {},
   "outputs": [
    {
     "data": {
      "text/plain": [
       "LinearRegression(copy_X=True, fit_intercept=True, n_jobs=None, normalize=False)"
      ]
     },
     "execution_count": 250,
     "metadata": {},
     "output_type": "execute_result"
    }
   ],
   "source": [
    "lm.fit(X_train,y_train)"
   ]
  },
  {
   "cell_type": "code",
   "execution_count": 251,
   "metadata": {},
   "outputs": [],
   "source": [
    "cdf = pd.DataFrame(lm.coef_,data.columns,columns=['Coeff'])"
   ]
  },
  {
   "cell_type": "code",
   "execution_count": 253,
   "metadata": {},
   "outputs": [
    {
     "data": {
      "text/html": [
       "<div>\n",
       "<style scoped>\n",
       "    .dataframe tbody tr th:only-of-type {\n",
       "        vertical-align: middle;\n",
       "    }\n",
       "\n",
       "    .dataframe tbody tr th {\n",
       "        vertical-align: top;\n",
       "    }\n",
       "\n",
       "    .dataframe thead th {\n",
       "        text-align: right;\n",
       "    }\n",
       "</style>\n",
       "<table border=\"1\" class=\"dataframe\">\n",
       "  <thead>\n",
       "    <tr style=\"text-align: right;\">\n",
       "      <th></th>\n",
       "      <th>Coeff</th>\n",
       "    </tr>\n",
       "  </thead>\n",
       "  <tbody>\n",
       "    <tr>\n",
       "      <td>Longitude</td>\n",
       "      <td>-1.435388e-13</td>\n",
       "    </tr>\n",
       "    <tr>\n",
       "      <td>Latitude</td>\n",
       "      <td>-4.624192e-13</td>\n",
       "    </tr>\n",
       "    <tr>\n",
       "      <td>Number_of_Vehicles</td>\n",
       "      <td>-5.760507e-13</td>\n",
       "    </tr>\n",
       "    <tr>\n",
       "      <td>Number_of_Casualties</td>\n",
       "      <td>1.000000e+00</td>\n",
       "    </tr>\n",
       "    <tr>\n",
       "      <td>Day_of_Week</td>\n",
       "      <td>4.394297e-13</td>\n",
       "    </tr>\n",
       "  </tbody>\n",
       "</table>\n",
       "</div>"
      ],
      "text/plain": [
       "                             Coeff\n",
       "Longitude            -1.435388e-13\n",
       "Latitude             -4.624192e-13\n",
       "Number_of_Vehicles   -5.760507e-13\n",
       "Number_of_Casualties  1.000000e+00\n",
       "Day_of_Week           4.394297e-13"
      ]
     },
     "execution_count": 253,
     "metadata": {},
     "output_type": "execute_result"
    }
   ],
   "source": [
    "cdf.head()"
   ]
  },
  {
   "cell_type": "code",
   "execution_count": 255,
   "metadata": {},
   "outputs": [],
   "source": [
    "predictions = lm.predict(X_test)"
   ]
  },
  {
   "cell_type": "code",
   "execution_count": 258,
   "metadata": {},
   "outputs": [
    {
     "data": {
      "text/plain": [
       "Text(0, 0.5, 'Predicted values')"
      ]
     },
     "execution_count": 258,
     "metadata": {},
     "output_type": "execute_result"
    },
    {
     "data": {
      "image/png": "[encoded data removed]",
      "text/plain": [
       "<Figure size 432x288 with 1 Axes>"
      ]
     },
     "metadata": {
      "needs_background": "light"
     },
     "output_type": "display_data"
    }
   ],
   "source": [
    "plt.scatter(y_test,predictions)\n",
    "plt.xlabel('Actual values')\n",
    "plt.ylabel('Predicted values')"
   ]
  },
  {
   "cell_type": "code",
   "execution_count": 259,
   "metadata": {},
   "outputs": [
    {
     "data": {
      "text/plain": [
       "<matplotlib.axes._subplots.AxesSubplot at 0x21590332e08>"
      ]
     },
     "execution_count": 259,
     "metadata": {},
     "output_type": "execute_result"
    },
    {
     "data": {
      "image/png": "[encoded data removed]",
      "text/plain": [
       "<Figure size 432x288 with 1 Axes>"
      ]
     },
     "metadata": {
      "needs_background": "light"
     },
     "output_type": "display_data"
    }
   ],
   "source": [
    "sns.distplot((y_test-predictions))\n",
    "# Residuals are normally distributed"
   ]
  },
  {
   "cell_type": "code",
   "execution_count": 263,
   "metadata": {
    "scrolled": true
   },
   "outputs": [
    {
     "data": {
      "text/html": [
       "<div>\n",
       "<style scoped>\n",
       "    .dataframe tbody tr th:only-of-type {\n",
       "        vertical-align: middle;\n",
       "    }\n",
       "\n",
       "    .dataframe tbody tr th {\n",
       "        vertical-align: top;\n",
       "    }\n",
       "\n",
       "    .dataframe thead th {\n",
       "        text-align: right;\n",
       "    }\n",
       "</style>\n",
       "<table border=\"1\" class=\"dataframe\">\n",
       "  <thead>\n",
       "    <tr style=\"text-align: right;\">\n",
       "      <th></th>\n",
       "      <th>Longitude</th>\n",
       "      <th>Latitude</th>\n",
       "      <th>Number_of_Vehicles</th>\n",
       "      <th>Number_of_Casualties</th>\n",
       "      <th>Day_of_Week</th>\n",
       "      <th>1st_Road_Class</th>\n",
       "      <th>1st_Road_Number</th>\n",
       "      <th>Speed_limit</th>\n",
       "      <th>2nd_Road_Class</th>\n",
       "      <th>2nd_Road_Number</th>\n",
       "      <th>...</th>\n",
       "      <th>site_Road surface defective</th>\n",
       "      <th>site_Roadworks</th>\n",
       "      <th>hazard_Any animal (except a ridden horse)</th>\n",
       "      <th>hazard_Dislodged vehicle load in carriageway</th>\n",
       "      <th>hazard_Involvement with previous accident</th>\n",
       "      <th>hazard_None</th>\n",
       "      <th>hazard_Other object in carriageway</th>\n",
       "      <th>hazard_Pedestrian in carriageway (not injured)</th>\n",
       "      <th>police_No</th>\n",
       "      <th>police_Yes</th>\n",
       "    </tr>\n",
       "  </thead>\n",
       "  <tbody>\n",
       "    <tr>\n",
       "      <td>0</td>\n",
       "      <td>-0.191170</td>\n",
       "      <td>51.489096</td>\n",
       "      <td>1</td>\n",
       "      <td>1</td>\n",
       "      <td>3</td>\n",
       "      <td>3</td>\n",
       "      <td>3218</td>\n",
       "      <td>30</td>\n",
       "      <td>-1</td>\n",
       "      <td>0</td>\n",
       "      <td>...</td>\n",
       "      <td>0</td>\n",
       "      <td>0</td>\n",
       "      <td>0</td>\n",
       "      <td>0</td>\n",
       "      <td>0</td>\n",
       "      <td>1</td>\n",
       "      <td>0</td>\n",
       "      <td>0</td>\n",
       "      <td>0</td>\n",
       "      <td>1</td>\n",
       "    </tr>\n",
       "    <tr>\n",
       "      <td>1</td>\n",
       "      <td>-0.211708</td>\n",
       "      <td>51.520075</td>\n",
       "      <td>1</td>\n",
       "      <td>1</td>\n",
       "      <td>4</td>\n",
       "      <td>4</td>\n",
       "      <td>450</td>\n",
       "      <td>30</td>\n",
       "      <td>5</td>\n",
       "      <td>0</td>\n",
       "      <td>...</td>\n",
       "      <td>0</td>\n",
       "      <td>0</td>\n",
       "      <td>0</td>\n",
       "      <td>0</td>\n",
       "      <td>0</td>\n",
       "      <td>1</td>\n",
       "      <td>0</td>\n",
       "      <td>0</td>\n",
       "      <td>0</td>\n",
       "      <td>1</td>\n",
       "    </tr>\n",
       "    <tr>\n",
       "      <td>2</td>\n",
       "      <td>-0.206458</td>\n",
       "      <td>51.525301</td>\n",
       "      <td>2</td>\n",
       "      <td>1</td>\n",
       "      <td>5</td>\n",
       "      <td>5</td>\n",
       "      <td>0</td>\n",
       "      <td>30</td>\n",
       "      <td>-1</td>\n",
       "      <td>0</td>\n",
       "      <td>...</td>\n",
       "      <td>0</td>\n",
       "      <td>0</td>\n",
       "      <td>0</td>\n",
       "      <td>0</td>\n",
       "      <td>0</td>\n",
       "      <td>1</td>\n",
       "      <td>0</td>\n",
       "      <td>0</td>\n",
       "      <td>0</td>\n",
       "      <td>1</td>\n",
       "    </tr>\n",
       "    <tr>\n",
       "      <td>3</td>\n",
       "      <td>-0.173862</td>\n",
       "      <td>51.482442</td>\n",
       "      <td>1</td>\n",
       "      <td>1</td>\n",
       "      <td>6</td>\n",
       "      <td>3</td>\n",
       "      <td>3220</td>\n",
       "      <td>30</td>\n",
       "      <td>-1</td>\n",
       "      <td>0</td>\n",
       "      <td>...</td>\n",
       "      <td>0</td>\n",
       "      <td>0</td>\n",
       "      <td>0</td>\n",
       "      <td>0</td>\n",
       "      <td>0</td>\n",
       "      <td>1</td>\n",
       "      <td>0</td>\n",
       "      <td>0</td>\n",
       "      <td>0</td>\n",
       "      <td>1</td>\n",
       "    </tr>\n",
       "    <tr>\n",
       "      <td>4</td>\n",
       "      <td>-0.156618</td>\n",
       "      <td>51.495752</td>\n",
       "      <td>1</td>\n",
       "      <td>1</td>\n",
       "      <td>2</td>\n",
       "      <td>6</td>\n",
       "      <td>0</td>\n",
       "      <td>30</td>\n",
       "      <td>-1</td>\n",
       "      <td>0</td>\n",
       "      <td>...</td>\n",
       "      <td>0</td>\n",
       "      <td>0</td>\n",
       "      <td>0</td>\n",
       "      <td>0</td>\n",
       "      <td>0</td>\n",
       "      <td>1</td>\n",
       "      <td>0</td>\n",
       "      <td>0</td>\n",
       "      <td>0</td>\n",
       "      <td>1</td>\n",
       "    </tr>\n",
       "  </tbody>\n",
       "</table>\n",
       "<p>5 rows × 65 columns</p>\n",
       "</div>"
      ],
      "text/plain": [
       "   Longitude   Latitude  Number_of_Vehicles  Number_of_Casualties  \\\n",
       "0  -0.191170  51.489096                   1                     1   \n",
       "1  -0.211708  51.520075                   1                     1   \n",
       "2  -0.206458  51.525301                   2                     1   \n",
       "3  -0.173862  51.482442                   1                     1   \n",
       "4  -0.156618  51.495752                   1                     1   \n",
       "\n",
       "   Day_of_Week  1st_Road_Class  1st_Road_Number  Speed_limit  2nd_Road_Class  \\\n",
       "0            3               3             3218           30              -1   \n",
       "1            4               4              450           30               5   \n",
       "2            5               5                0           30              -1   \n",
       "3            6               3             3220           30              -1   \n",
       "4            2               6                0           30              -1   \n",
       "\n",
       "   2nd_Road_Number  ...  site_Road surface defective  site_Roadworks  \\\n",
       "0                0  ...                            0               0   \n",
       "1                0  ...                            0               0   \n",
       "2                0  ...                            0               0   \n",
       "3                0  ...                            0               0   \n",
       "4                0  ...                            0               0   \n",
       "\n",
       "   hazard_Any animal (except a ridden horse)  \\\n",
       "0                                          0   \n",
       "1                                          0   \n",
       "2                                          0   \n",
       "3                                          0   \n",
       "4                                          0   \n",
       "\n",
       "   hazard_Dislodged vehicle load in carriageway  \\\n",
       "0                                             0   \n",
       "1                                             0   \n",
       "2                                             0   \n",
       "3                                             0   \n",
       "4                                             0   \n",
       "\n",
       "   hazard_Involvement with previous accident  hazard_None  \\\n",
       "0                                          0            1   \n",
       "1                                          0            1   \n",
       "2                                          0            1   \n",
       "3                                          0            1   \n",
       "4                                          0            1   \n",
       "\n",
       "   hazard_Other object in carriageway  \\\n",
       "0                                   0   \n",
       "1                                   0   \n",
       "2                                   0   \n",
       "3                                   0   \n",
       "4                                   0   \n",
       "\n",
       "   hazard_Pedestrian in carriageway (not injured)  police_No  police_Yes  \n",
       "0                                               0          0           1  \n",
       "1                                               0          0           1  \n",
       "2                                               0          0           1  \n",
       "3                                               0          0           1  \n",
       "4                                               0          0           1  \n",
       "\n",
       "[5 rows x 65 columns]"
      ]
     },
     "execution_count": 263,
     "metadata": {},
     "output_type": "execute_result"
    }
   ],
   "source": [
    "data.head()"
   ]
  },
  {
   "cell_type": "code",
   "execution_count": null,
   "metadata": {},
   "outputs": [],
   "source": []
  },
  {
   "cell_type": "code",
   "execution_count": null,
   "metadata": {},
   "outputs": [],
   "source": []
  }
 ],
 "metadata": {
  "kernelspec": {
   "display_name": "Python 3",
   "language": "python",
   "name": "python3"
  },
  "language_info": {
   "codemirror_mode": {
    "name": "ipython",
    "version": 3
   },
   "file_extension": ".py",
   "mimetype": "text/x-python",
   "name": "python",
   "nbconvert_exporter": "python",
   "pygments_lexer": "ipython3",
   "version": "3.7.4"
  }
 },
 "nbformat": 4,
 "nbformat_minor": 2
}
